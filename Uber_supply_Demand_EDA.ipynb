{
 "cells": [
  {
   "cell_type": "markdown",
   "metadata": {
    "id": "vncDsAP0Gaoa"
   },
   "source": [
    "# **Project Name**    -    Uber Supply Demand Gap Insights\n",
    "\n"
   ]
  },
  {
   "cell_type": "markdown",
   "metadata": {
    "id": "beRrZCGUAJYm"
   },
   "source": [
    "##### **Project Type**    - EDA\n",
    "##### **Contribution**    - Individual"
   ]
  },
  {
   "cell_type": "markdown",
   "metadata": {
    "id": "FJNUwmbgGyua"
   },
   "source": [
    "# **Project Summary -**"
   ]
  },
  {
   "cell_type": "markdown",
   "metadata": {
    "id": "F6v_1wHtG2nS"
   },
   "source": [
    "This project deals with the detection and analysing of supply demand gap in Uber Cab Services particularly at the Airport and at the city, and recommending possible solutions to overcome the Supply Demand Gap, ensuring the smooth running of business and great user experience."
   ]
  },
  {
   "cell_type": "markdown",
   "metadata": {
    "id": "w6K7xa23Elo4"
   },
   "source": [
    "# **GitHub Link -**"
   ]
  },
  {
   "cell_type": "markdown",
   "metadata": {
    "id": "h1o69JH3Eqqn"
   },
   "source": []
  },
  {
   "cell_type": "markdown",
   "metadata": {
    "id": "yQaldy8SH6Dl"
   },
   "source": [
    "# **Problem Statement**\n"
   ]
  },
  {
   "cell_type": "markdown",
   "metadata": {
    "id": "DpeJGUA3kjGy"
   },
   "source": [
    "How can Uber optimize its business so that there is less supply demand gap?"
   ]
  },
  {
   "cell_type": "markdown",
   "metadata": {
    "id": "PH-0ReGfmX4f"
   },
   "source": [
    "#### **Define Your Business Objective?**"
   ]
  },
  {
   "cell_type": "markdown",
   "metadata": {
    "id": "PhDvGCAqmjP1"
   },
   "source": [
    "1. Detecting Supply Demand Gap in the Cab ride bussiness\n",
    "2. Exploring possible solutions to reduce the Supply-Demand Gap in the business to satisfy customers and increase revenue generation."
   ]
  },
  {
   "cell_type": "markdown",
   "metadata": {
    "id": "mDgbUHAGgjLW"
   },
   "source": [
    "# **General Guidelines** : -  "
   ]
  },
  {
   "cell_type": "markdown",
   "metadata": {
    "id": "ZrxVaUj-hHfC"
   },
   "source": [
    "1.   Well-structured, formatted, and commented code is required.\n",
    "2.   Exception Handling, Production Grade Code & Deployment Ready Code will be a plus. Those students will be awarded some additional credits.\n",
    "     \n",
    "     The additional credits will have advantages over other students during Star Student selection.\n",
    "       \n",
    "             [ Note: - Deployment Ready Code is defined as, the whole .ipynb notebook should be executable in one go\n",
    "                       without a single error logged. ]\n",
    "\n",
    "3.   Each and every logic should have proper comments.\n",
    "4. You may add as many number of charts you want. Make Sure for each and every chart the following format should be answered.\n",
    "        \n",
    "\n",
    "```\n",
    "# Chart visualization code\n",
    "```\n",
    "            \n",
    "\n",
    "*   Why did you pick the specific chart?\n",
    "*   What is/are the insight(s) found from the chart?\n",
    "* Will the gained insights help creating a positive business impact?\n",
    "Are there any insights that lead to negative growth? Justify with specific reason.\n",
    "\n",
    "5. You have to create at least 20 logical & meaningful charts having important insights.\n",
    "\n",
    "\n",
    "[ Hints : - Do the Vizualization in  a structured way while following \"UBM\" Rule.\n",
    "\n",
    "U - Univariate Analysis,\n",
    "\n",
    "B - Bivariate Analysis (Numerical - Categorical, Numerical - Numerical, Categorical - Categorical)\n",
    "\n",
    "M - Multivariate Analysis\n",
    " ]\n",
    "\n",
    "\n",
    "\n"
   ]
  },
  {
   "cell_type": "markdown",
   "metadata": {
    "id": "O_i_v8NEhb9l"
   },
   "source": [
    "# ***Let's Begin !***"
   ]
  },
  {
   "cell_type": "markdown",
   "metadata": {
    "id": "HhfV-JJviCcP"
   },
   "source": [
    "## ***1. Know Your Data***/"
   ]
  },
  {
   "cell_type": "markdown",
   "metadata": {
    "id": "Y3lxredqlCYt"
   },
   "source": [
    "### Import Libraries"
   ]
  },
  {
   "cell_type": "code",
   "execution_count": 1,
   "metadata": {
    "id": "M8Vqi-pPk-HR"
   },
   "outputs": [],
   "source": [
    "import pandas as pd\n",
    "import seaborn as sns\n",
    "import matplotlib.pyplot as plt"
   ]
  },
  {
   "cell_type": "markdown",
   "metadata": {
    "id": "3RnN4peoiCZX"
   },
   "source": [
    "### Dataset Loading"
   ]
  },
  {
   "cell_type": "code",
   "execution_count": 2,
   "metadata": {
    "id": "4CkvbW_SlZ_R"
   },
   "outputs": [],
   "source": [
    "df = pd.read_csv(\"Uber Request Data - Cleaned.csv\")"
   ]
  },
  {
   "cell_type": "markdown",
   "metadata": {
    "id": "x71ZqKXriCWQ"
   },
   "source": [
    "### Dataset First View"
   ]
  },
  {
   "cell_type": "code",
   "execution_count": 3,
   "metadata": {
    "id": "LWNFOSvLl09H"
   },
   "outputs": [
    {
     "data": {
      "text/html": [
       "<div>\n",
       "<style scoped>\n",
       "    .dataframe tbody tr th:only-of-type {\n",
       "        vertical-align: middle;\n",
       "    }\n",
       "\n",
       "    .dataframe tbody tr th {\n",
       "        vertical-align: top;\n",
       "    }\n",
       "\n",
       "    .dataframe thead th {\n",
       "        text-align: right;\n",
       "    }\n",
       "</style>\n",
       "<table border=\"1\" class=\"dataframe\">\n",
       "  <thead>\n",
       "    <tr style=\"text-align: right;\">\n",
       "      <th></th>\n",
       "      <th>Request id</th>\n",
       "      <th>Pickup point</th>\n",
       "      <th>Driver id</th>\n",
       "      <th>Status</th>\n",
       "      <th>Request timestamp</th>\n",
       "      <th>Drop timestamp</th>\n",
       "      <th>Time Slot</th>\n",
       "      <th>Day of the Week</th>\n",
       "      <th>Request Status</th>\n",
       "      <th>Trip Duration (Mins.)</th>\n",
       "    </tr>\n",
       "  </thead>\n",
       "  <tbody>\n",
       "    <tr>\n",
       "      <th>0</th>\n",
       "      <td>619</td>\n",
       "      <td>Airport</td>\n",
       "      <td>1</td>\n",
       "      <td>Trip Completed</td>\n",
       "      <td>11-07-2016 11:51</td>\n",
       "      <td>11-07-2016 13:00</td>\n",
       "      <td>Morning</td>\n",
       "      <td>Mon</td>\n",
       "      <td>Request Fullfilled</td>\n",
       "      <td>69.0</td>\n",
       "    </tr>\n",
       "    <tr>\n",
       "      <th>1</th>\n",
       "      <td>867</td>\n",
       "      <td>Airport</td>\n",
       "      <td>1</td>\n",
       "      <td>Trip Completed</td>\n",
       "      <td>11-07-2016 17:57</td>\n",
       "      <td>11-07-2016 18:47</td>\n",
       "      <td>Evening</td>\n",
       "      <td>Mon</td>\n",
       "      <td>Request Fullfilled</td>\n",
       "      <td>50.0</td>\n",
       "    </tr>\n",
       "    <tr>\n",
       "      <th>2</th>\n",
       "      <td>1807</td>\n",
       "      <td>City</td>\n",
       "      <td>1</td>\n",
       "      <td>Trip Completed</td>\n",
       "      <td>12-07-2016 09:17</td>\n",
       "      <td>12-07-2016 09:58</td>\n",
       "      <td>Morning</td>\n",
       "      <td>Tue</td>\n",
       "      <td>Request Fullfilled</td>\n",
       "      <td>41.0</td>\n",
       "    </tr>\n",
       "    <tr>\n",
       "      <th>3</th>\n",
       "      <td>2532</td>\n",
       "      <td>Airport</td>\n",
       "      <td>1</td>\n",
       "      <td>Trip Completed</td>\n",
       "      <td>12-07-2016 21:08</td>\n",
       "      <td>12-07-2016 22:03</td>\n",
       "      <td>Night</td>\n",
       "      <td>Tue</td>\n",
       "      <td>Request Fullfilled</td>\n",
       "      <td>55.0</td>\n",
       "    </tr>\n",
       "    <tr>\n",
       "      <th>4</th>\n",
       "      <td>3112</td>\n",
       "      <td>City</td>\n",
       "      <td>1</td>\n",
       "      <td>Trip Completed</td>\n",
       "      <td>13-07-2016 08:33</td>\n",
       "      <td>13-07-2016 09:25</td>\n",
       "      <td>Morning</td>\n",
       "      <td>Wed</td>\n",
       "      <td>Request Fullfilled</td>\n",
       "      <td>52.5</td>\n",
       "    </tr>\n",
       "  </tbody>\n",
       "</table>\n",
       "</div>"
      ],
      "text/plain": [
       "   Request id Pickup point Driver id          Status Request timestamp  \\\n",
       "0         619      Airport         1  Trip Completed  11-07-2016 11:51   \n",
       "1         867      Airport         1  Trip Completed  11-07-2016 17:57   \n",
       "2        1807         City         1  Trip Completed  12-07-2016 09:17   \n",
       "3        2532      Airport         1  Trip Completed  12-07-2016 21:08   \n",
       "4        3112         City         1  Trip Completed  13-07-2016 08:33   \n",
       "\n",
       "     Drop timestamp Time Slot Day of the Week      Request Status  \\\n",
       "0  11-07-2016 13:00   Morning             Mon  Request Fullfilled   \n",
       "1  11-07-2016 18:47   Evening             Mon  Request Fullfilled   \n",
       "2  12-07-2016 09:58   Morning             Tue  Request Fullfilled   \n",
       "3  12-07-2016 22:03     Night             Tue  Request Fullfilled   \n",
       "4  13-07-2016 09:25   Morning             Wed  Request Fullfilled   \n",
       "\n",
       "   Trip Duration (Mins.)  \n",
       "0                   69.0  \n",
       "1                   50.0  \n",
       "2                   41.0  \n",
       "3                   55.0  \n",
       "4                   52.5  "
      ]
     },
     "execution_count": 3,
     "metadata": {},
     "output_type": "execute_result"
    }
   ],
   "source": [
    "df.head()"
   ]
  },
  {
   "cell_type": "markdown",
   "metadata": {
    "id": "7hBIi_osiCS2"
   },
   "source": [
    "### Dataset Rows & Columns count"
   ]
  },
  {
   "cell_type": "code",
   "execution_count": 4,
   "metadata": {
    "id": "Kllu7SJgmLij"
   },
   "outputs": [
    {
     "data": {
      "text/plain": [
       "(6745, 10)"
      ]
     },
     "execution_count": 4,
     "metadata": {},
     "output_type": "execute_result"
    }
   ],
   "source": [
    "df.shape"
   ]
  },
  {
   "cell_type": "markdown",
   "metadata": {
    "id": "JlHwYmJAmNHm"
   },
   "source": [
    "### Dataset Information"
   ]
  },
  {
   "cell_type": "code",
   "execution_count": 5,
   "metadata": {
    "id": "e9hRXRi6meOf"
   },
   "outputs": [
    {
     "name": "stdout",
     "output_type": "stream",
     "text": [
      "<class 'pandas.core.frame.DataFrame'>\n",
      "RangeIndex: 6745 entries, 0 to 6744\n",
      "Data columns (total 10 columns):\n",
      " #   Column                 Non-Null Count  Dtype  \n",
      "---  ------                 --------------  -----  \n",
      " 0   Request id             6745 non-null   int64  \n",
      " 1   Pickup point           6745 non-null   object \n",
      " 2   Driver id              6745 non-null   object \n",
      " 3   Status                 6745 non-null   object \n",
      " 4   Request timestamp      6745 non-null   object \n",
      " 5   Drop timestamp         2831 non-null   object \n",
      " 6   Time Slot              6745 non-null   object \n",
      " 7   Day of the Week        6745 non-null   object \n",
      " 8   Request Status         6745 non-null   object \n",
      " 9   Trip Duration (Mins.)  6745 non-null   float64\n",
      "dtypes: float64(1), int64(1), object(8)\n",
      "memory usage: 527.1+ KB\n"
     ]
    }
   ],
   "source": [
    "df.info()"
   ]
  },
  {
   "cell_type": "markdown",
   "metadata": {},
   "source": [
    "### Changing 'Request timestamp' and 'Drop timestamp' to datetime format."
   ]
  },
  {
   "cell_type": "code",
   "execution_count": 6,
   "metadata": {},
   "outputs": [],
   "source": [
    "df['Request timestamp'] = pd.to_datetime(df['Request timestamp'],format=\"%d-%m-%Y %H:%M\")\n",
    "df['Drop timestamp'] = pd.to_datetime(df['Drop timestamp'],format=\"%d-%m-%Y %H:%M\")"
   ]
  },
  {
   "cell_type": "markdown",
   "metadata": {
    "id": "H0kj-8xxnORC"
   },
   "source": [
    "### What did you know about your dataset?"
   ]
  },
  {
   "cell_type": "markdown",
   "metadata": {
    "id": "gfoNAAC-nUe_"
   },
   "source": []
  },
  {
   "cell_type": "markdown",
   "metadata": {
    "id": "nA9Y7ga8ng1Z"
   },
   "source": [
    "## ***2. Understanding Your Variables***"
   ]
  },
  {
   "cell_type": "code",
   "execution_count": 7,
   "metadata": {
    "id": "j7xfkqrt5Ag5"
   },
   "outputs": [
    {
     "data": {
      "text/html": [
       "<div>\n",
       "<style scoped>\n",
       "    .dataframe tbody tr th:only-of-type {\n",
       "        vertical-align: middle;\n",
       "    }\n",
       "\n",
       "    .dataframe tbody tr th {\n",
       "        vertical-align: top;\n",
       "    }\n",
       "\n",
       "    .dataframe thead th {\n",
       "        text-align: right;\n",
       "    }\n",
       "</style>\n",
       "<table border=\"1\" class=\"dataframe\">\n",
       "  <thead>\n",
       "    <tr style=\"text-align: right;\">\n",
       "      <th></th>\n",
       "      <th>Request id</th>\n",
       "      <th>Request timestamp</th>\n",
       "      <th>Drop timestamp</th>\n",
       "      <th>Trip Duration (Mins.)</th>\n",
       "    </tr>\n",
       "  </thead>\n",
       "  <tbody>\n",
       "    <tr>\n",
       "      <th>count</th>\n",
       "      <td>6745.000000</td>\n",
       "      <td>6745</td>\n",
       "      <td>2831</td>\n",
       "      <td>6745.000000</td>\n",
       "    </tr>\n",
       "    <tr>\n",
       "      <th>mean</th>\n",
       "      <td>3384.644922</td>\n",
       "      <td>2016-07-13 13:42:46.514455296</td>\n",
       "      <td>2016-07-13 13:15:16.404097536</td>\n",
       "      <td>21.999081</td>\n",
       "    </tr>\n",
       "    <tr>\n",
       "      <th>min</th>\n",
       "      <td>1.000000</td>\n",
       "      <td>2016-07-11 00:00:00</td>\n",
       "      <td>2016-07-11 00:51:00</td>\n",
       "      <td>0.000000</td>\n",
       "    </tr>\n",
       "    <tr>\n",
       "      <th>25%</th>\n",
       "      <td>1691.000000</td>\n",
       "      <td>2016-07-12 07:51:00</td>\n",
       "      <td>2016-07-12 07:42:00</td>\n",
       "      <td>0.000000</td>\n",
       "    </tr>\n",
       "    <tr>\n",
       "      <th>50%</th>\n",
       "      <td>3387.000000</td>\n",
       "      <td>2016-07-13 14:23:00</td>\n",
       "      <td>2016-07-13 12:14:00</td>\n",
       "      <td>0.000000</td>\n",
       "    </tr>\n",
       "    <tr>\n",
       "      <th>75%</th>\n",
       "      <td>5080.000000</td>\n",
       "      <td>2016-07-14 19:39:00</td>\n",
       "      <td>2016-07-14 19:13:30</td>\n",
       "      <td>48.000000</td>\n",
       "    </tr>\n",
       "    <tr>\n",
       "      <th>max</th>\n",
       "      <td>6766.000000</td>\n",
       "      <td>2016-07-15 23:59:00</td>\n",
       "      <td>2016-07-16 01:09:00</td>\n",
       "      <td>83.000000</td>\n",
       "    </tr>\n",
       "    <tr>\n",
       "      <th>std</th>\n",
       "      <td>1955.099667</td>\n",
       "      <td>NaN</td>\n",
       "      <td>NaN</td>\n",
       "      <td>27.380612</td>\n",
       "    </tr>\n",
       "  </tbody>\n",
       "</table>\n",
       "</div>"
      ],
      "text/plain": [
       "        Request id              Request timestamp  \\\n",
       "count  6745.000000                           6745   \n",
       "mean   3384.644922  2016-07-13 13:42:46.514455296   \n",
       "min       1.000000            2016-07-11 00:00:00   \n",
       "25%    1691.000000            2016-07-12 07:51:00   \n",
       "50%    3387.000000            2016-07-13 14:23:00   \n",
       "75%    5080.000000            2016-07-14 19:39:00   \n",
       "max    6766.000000            2016-07-15 23:59:00   \n",
       "std    1955.099667                            NaN   \n",
       "\n",
       "                      Drop timestamp  Trip Duration (Mins.)  \n",
       "count                           2831            6745.000000  \n",
       "mean   2016-07-13 13:15:16.404097536              21.999081  \n",
       "min              2016-07-11 00:51:00               0.000000  \n",
       "25%              2016-07-12 07:42:00               0.000000  \n",
       "50%              2016-07-13 12:14:00               0.000000  \n",
       "75%              2016-07-14 19:13:30              48.000000  \n",
       "max              2016-07-16 01:09:00              83.000000  \n",
       "std                              NaN              27.380612  "
      ]
     },
     "execution_count": 7,
     "metadata": {},
     "output_type": "execute_result"
    }
   ],
   "source": [
    "df.describe()"
   ]
  },
  {
   "cell_type": "markdown",
   "metadata": {
    "id": "PBTbrJXOngz2"
   },
   "source": [
    "### Variables Description"
   ]
  },
  {
   "cell_type": "markdown",
   "metadata": {
    "id": "aJV4KIxSnxay"
   },
   "source": [
    "1.\tRequest id – Contains the generated id per request\n",
    "2.\tPickup point – Journey start points (Airport or City)\n",
    "3.\tDriver id – Id of the driver assigned to request id (Unique id per driver)\n",
    "4.\tStatus – Trip Status (Completed, no cars Available, Cancelled)\n",
    "5.\tRequest timestamp – Time at which request was made by user\n",
    "6.\tDrop timestamp – Time at which user was dropped to their destination."
   ]
  },
  {
   "cell_type": "markdown",
   "metadata": {
    "id": "u3PMJOP6ngxN"
   },
   "source": [
    "### Check Unique Values for each variable."
   ]
  },
  {
   "cell_type": "code",
   "execution_count": 8,
   "metadata": {
    "id": "zms12Yq5n-jE"
   },
   "outputs": [
    {
     "data": {
      "text/plain": [
       "Request id               6745\n",
       "Pickup point                2\n",
       "Driver id                 301\n",
       "Status                      3\n",
       "Request timestamp        4016\n",
       "Drop timestamp           2282\n",
       "Time Slot                   6\n",
       "Day of the Week             5\n",
       "Request Status              2\n",
       "Trip Duration (Mins.)     528\n",
       "dtype: int64"
      ]
     },
     "execution_count": 8,
     "metadata": {},
     "output_type": "execute_result"
    }
   ],
   "source": [
    "df.nunique()"
   ]
  },
  {
   "cell_type": "markdown",
   "metadata": {
    "id": "GF8Ens_Soomf"
   },
   "source": [
    "## ***3. Data Vizualization, Storytelling & Experimenting with charts : Understand the relationships between variables***"
   ]
  },
  {
   "cell_type": "markdown",
   "metadata": {},
   "source": [
    "#### Chart - 1"
   ]
  },
  {
   "cell_type": "code",
   "execution_count": 10,
   "metadata": {},
   "outputs": [
    {
     "data": {
      "image/png": "[encoded data removed]",
      "text/plain": [
       "<Figure size 1000x600 with 1 Axes>"
      ]
     },
     "metadata": {},
     "output_type": "display_data"
    }
   ],
   "source": [
    "plt.figure(figsize = (10,6))\n",
    "plt.title(\"Overall Supply Demand Gap in Percentage\")\n",
    "counts = df['Request Status'].value_counts()\n",
    "plt.pie(counts,labels = counts.index,autopct=\"%1.1f%%\")\n",
    "plt.tight_layout\n",
    "plt.savefig('Chart1.png')"
   ]
  },
  {
   "cell_type": "markdown",
   "metadata": {},
   "source": [
    "##### 1. Why did you pick the specific chart?"
   ]
  },
  {
   "cell_type": "markdown",
   "metadata": {},
   "source": [
    "This pie chart shows the overall Supply-Demand Gap Percentage in the available dataset."
   ]
  },
  {
   "cell_type": "markdown",
   "metadata": {},
   "source": [
    "##### 2. What is/are the insight(s) found from the chart?"
   ]
  },
  {
   "cell_type": "markdown",
   "metadata": {},
   "source": [
    "1. Request unfulfilled (Ride Cancelled by driver/Unavailability of cars) for the user.\n",
    "    - Ride Cancelled by the driver/ Unavailability of cars is about 58% of the total available data. This is more than 50% of the data. This could be due to unavailability of drivers/cars in the peak rush hour or cacelling the rides by drivers because of hesitation for long distance rides."
   ]
  },
  {
   "cell_type": "markdown",
   "metadata": {},
   "source": [
    "##### 3. Will the gained insights help creating a positive business impact?\n",
    "Are there any insights that lead to negative growth? Justify with specific reason."
   ]
  },
  {
   "cell_type": "markdown",
   "metadata": {},
   "source": [
    "- Insights that can lead to negative growth\n",
    "    - Significant number of unfulfilled request about 58% can lead to customer dissatisfaction and could probably result in customer churn from the plateform.\n",
    " \n",
    "- Business Strategy\n",
    "    - Deploying more cars if the number of cars is not enough in the peak rush hours\n",
    "    - Providing incentives to cab drivers on peak rush hours or loyalty points.\n",
    "    - Providing bonuses to cab drivers for long rides.\n",
    "\n",
    "This strategies could lead to more request fulfillment and more customer satisfaction."
   ]
  },
  {
   "cell_type": "markdown",
   "metadata": {
    "id": "0wOQAZs5pc--"
   },
   "source": [
    "#### Chart - 2"
   ]
  },
  {
   "cell_type": "code",
   "execution_count": 11,
   "metadata": {
    "id": "7v_ESjsspbW7"
   },
   "outputs": [
    {
     "data": {
      "image/png": "[encoded data removed]",
      "text/plain": [
       "<Figure size 1500x800 with 1 Axes>"
      ]
     },
     "metadata": {},
     "output_type": "display_data"
    }
   ],
   "source": [
    "df_unfulfilled = df[df['Request Status'] != 'Request Fullfilled'].copy()\n",
    "df_unfulfilled['hour'] = df_unfulfilled['Request timestamp'].dt.hour\n",
    "df_temp = df_unfulfilled.groupby('hour')['Request id'].count().reset_index(name = \"Counts\")\n",
    "plt.figure(figsize = (15,8))\n",
    "plt.title(\"Demand Gap Based on Hours\")\n",
    "sns.barplot(data = df_temp,x = 'hour',y = 'Counts',hue = 'hour',legend = False,palette = 'viridis')\n",
    "plt.ylabel(\"Number of Requests Unfulfilled\")\n",
    "plt.savefig('Chart2.png')"
   ]
  },
  {
   "cell_type": "markdown",
   "metadata": {
    "id": "K5QZ13OEpz2H"
   },
   "source": [
    "##### 1. Why did you pick the specific chart?"
   ]
  },
  {
   "cell_type": "markdown",
   "metadata": {
    "id": "XESiWehPqBRc"
   },
   "source": [
    "This Bar Chart shows the Hourly Average of Demand Gap."
   ]
  },
  {
   "cell_type": "markdown",
   "metadata": {
    "id": "lQ7QKXXCp7Bj"
   },
   "source": [
    "##### 2. What is/are the insight(s) found from the chart?"
   ]
  },
  {
   "cell_type": "markdown",
   "metadata": {
    "id": "C_j1G7yiqdRP"
   },
   "source": [
    "This graph shows bimodal distributions\n",
    "- First peak in Demand Gap is somewhere in Morning hours (4AM to 10AM)\n",
    "- Second peak (more prominent) is somewhere in Evening Hours (5AM to 21AM)\n",
    "\n",
    "This could be due to peak rush hours typically in morning hours and as well as in Evening hours."
   ]
  },
  {
   "cell_type": "markdown",
   "metadata": {
    "id": "448CDAPjqfQr"
   },
   "source": [
    "##### 3. Will the gained insights help creating a positive business impact?\n",
    "Are there any insights that lead to negative growth? Justify with specific reason."
   ]
  },
  {
   "cell_type": "markdown",
   "metadata": {
    "id": "3cspy4FjqxJW"
   },
   "source": [
    "- Insights that can lead to negative growth.\n",
    "    - Unavailability of cars or frequent cancellation of cab ride by drivers could cause frustration in customer, which in turn can result in increased user churn and bad reputation of the Company/Organisation.\n",
    " \n",
    "- Business Strategy\n",
    "    - Deploying more cars in the fields in morning hours and evening hours.\n",
    "    - Hiring more drivers.\n",
    "    - Incentifying drivers for rush hour operation and long cab ride.\n",
    "    - Giving bonuses to drivers who engages more number customers in rush hours."
   ]
  },
  {
   "cell_type": "markdown",
   "metadata": {},
   "source": [
    "#### Chart - 3"
   ]
  },
  {
   "cell_type": "code",
   "execution_count": 12,
   "metadata": {},
   "outputs": [
    {
     "data": {
      "image/png": "[encoded data removed]",
      "text/plain": [
       "<Figure size 1000x600 with 1 Axes>"
      ]
     },
     "metadata": {},
     "output_type": "display_data"
    }
   ],
   "source": [
    "plt.figure(figsize = (10,6))\n",
    "plt.title(\"Breakdown of Supply Demand Gap in Percentage\")\n",
    "counts = df['Status'].value_counts()\n",
    "plt.pie(counts,labels = counts.index,autopct=\"%1.1f%%\")\n",
    "plt.tight_layout\n",
    "plt.savefig('Chart3.png')"
   ]
  },
  {
   "cell_type": "markdown",
   "metadata": {},
   "source": [
    "##### 1. Why did you pick the specific chart?"
   ]
  },
  {
   "cell_type": "markdown",
   "metadata": {},
   "source": [
    "This Pie Chart shows the distribution of trip status in percentages."
   ]
  },
  {
   "cell_type": "markdown",
   "metadata": {},
   "source": [
    "##### 2. What is/are the insight(s) found from the chart?"
   ]
  },
  {
   "cell_type": "markdown",
   "metadata": {},
   "source": [
    "1. High trip fulfillment but not majority\n",
    "    - Only 42% of the trips were completed successfuly. While this is the large segemnt, its still less than half, suggesting room for improvement in service reliability.\n",
    "2. High Incidence of Unavailability:\n",
    "    - A significant 39.3% of trip requests failed due to no cars being available, indicating supply constraints. This could reflect\n",
    "        - Insufficient driver supply during peak rush hour.\n",
    "        - Poor distribution of cars relative to demand hotspots.\n",
    "3. Considerable Cancellations:\n",
    "    - 18.7% of the trips were cancelled, which is not negligible. This could be due to:\n",
    "        - Long distance drive\n",
    "        - Hesitation by drivers for long distance ride."
   ]
  },
  {
   "cell_type": "markdown",
   "metadata": {},
   "source": [
    "##### 3. Will the gained insights help creating a positive business impact?\n",
    "Are there any insights that lead to negative growth? Justify with specific reason."
   ]
  },
  {
   "cell_type": "markdown",
   "metadata": {},
   "source": [
    "- Insights that can lead to negative business growth\n",
    "    - 39.3% of cars unavailabilty and 18.7% of ride cancellations can heavily lead to user dissatisfaction and user churn, resulting in business loss.\n",
    " \n",
    "- Business Strategies\n",
    "    - Hiring more cars and drivers to fulfill the peak hours demand.\n",
    "    - Distributuon of cars relative to demand hotspots.\n",
    "    - Incentifying drivers for long distance drive.\n",
    "    - Applying Bonsus scheme for drivers for engaging more customers in rush/peak hours. "
   ]
  },
  {
   "cell_type": "markdown",
   "metadata": {},
   "source": [
    "#### Chart - 4"
   ]
  },
  {
   "cell_type": "code",
   "execution_count": 13,
   "metadata": {},
   "outputs": [
    {
     "data": {
      "image/png": "[encoded data removed]",
      "text/plain": [
       "<Figure size 1000x600 with 1 Axes>"
      ]
     },
     "metadata": {},
     "output_type": "display_data"
    }
   ],
   "source": [
    "plt.figure(figsize = (10,6))\n",
    "plt.title(\"Supply Demand Gap by Time Slot of the day\")\n",
    "sns.countplot(df,x = 'Time Slot',hue = 'Request Status',palette = 'viridis')\n",
    "plt.ylabel(\"Number of Request\")\n",
    "plt.grid()\n",
    "plt.savefig('Chart4.png')"
   ]
  },
  {
   "cell_type": "markdown",
   "metadata": {},
   "source": [
    "##### 1. Why did you pick the specific chart?"
   ]
  },
  {
   "cell_type": "markdown",
   "metadata": {},
   "source": [
    "This chart shows the Supply demand gap vs fulfilled demand by Time Slot of the day."
   ]
  },
  {
   "cell_type": "markdown",
   "metadata": {},
   "source": [
    "##### 2. What is/are the insight(s) found from the chart?"
   ]
  },
  {
   "cell_type": "markdown",
   "metadata": {},
   "source": [
    "1. In most Time Slot of the day there are more Unfulfilled requests than fulfilled requests, except Afternoon.\n",
    "2. There are higher number of requests in Morning and Evening, out of which most requests are going unfulfilled particularly in the Evening (highest ratio). These could be due to peak rush hour in the Evening and Morning.\n",
    "3. There are also some significant Unfulfilled requests in the night,Early Morning and Late Night. These could be due to drivers unwilling to drive in Night time, Early Morning or at Late Night."
   ]
  },
  {
   "cell_type": "markdown",
   "metadata": {},
   "source": [
    "##### 3. Will the gained insights help creating a positive business impact?\n",
    "Are there any insights that lead to negative growth? Justify with specific reason."
   ]
  },
  {
   "cell_type": "markdown",
   "metadata": {},
   "source": [
    "- Insights that could lead to negative growth.\n",
    "    - Persistent higher number of unfulfilled requests could potentially damage company reputation and can cause heavy user churn and negative feedback.\n",
    "    - high unfulfilled requests in rush hour (Morning and Evening) may negatively imapct business growth when people are in hurry to get to their destianation.\n",
    "\n",
    "- Business Strategy\n",
    "    - Deploying more cars and hiring more driver in the field particularly in Evening and Morning (during peak rush hour) could help fulfilling the demands.\n",
    "    - Deploying drivers and cars in the field at night shift could also help fulfilling the demands at night. Incentifying the driver during night time could motivate the driver to do their job efficiently.\n",
    "    - For early morning and Late night driving, the drivers could be also motivated by Incentives and bonuses."
   ]
  },
  {
   "cell_type": "markdown",
   "metadata": {
    "id": "KSlN3yHqYklG"
   },
   "source": [
    "#### Chart - 5"
   ]
  },
  {
   "cell_type": "code",
   "execution_count": 14,
   "metadata": {
    "id": "R4YgtaqtYklH"
   },
   "outputs": [
    {
     "data": {
      "image/png": "[encoded data removed]",
      "text/plain": [
       "<Figure size 1000x600 with 1 Axes>"
      ]
     },
     "metadata": {},
     "output_type": "display_data"
    }
   ],
   "source": [
    "df_temp = df[df['Request Status'] == 'Request Fullfilled']\n",
    "df_temp = df.groupby(['Pickup point','Time Slot'])['Trip Duration (Mins.)'].mean().reset_index(name = 'Average Trip Duration')\n",
    "plt.figure(figsize = (10,6))\n",
    "plt.title(\"Average Trip Duration By Time Slot\")\n",
    "sns.barplot(df_temp,x = 'Time Slot',y = 'Average Trip Duration',hue = 'Pickup point',palette = 'viridis')\n",
    "plt.grid()\n",
    "plt.savefig('Chart5.png')"
   ]
  },
  {
   "cell_type": "markdown",
   "metadata": {
    "id": "t6dVpIINYklI"
   },
   "source": [
    "##### 1. Why did you pick the specific chart?"
   ]
  },
  {
   "cell_type": "markdown",
   "metadata": {
    "id": "5aaW0BYyYklI"
   },
   "source": [
    "This bar chart shows the average trip duration by time slot, separated by pickup point (Airport vs City)."
   ]
  },
  {
   "cell_type": "markdown",
   "metadata": {
    "id": "ijmpgYnKYklI"
   },
   "source": [
    "##### 2. What is/are the insight(s) found from the chart?"
   ]
  },
  {
   "cell_type": "markdown",
   "metadata": {
    "id": "PSx9atu2YklI"
   },
   "source": [
    "1. Airport pickups Take longer (Generally)\n",
    "    - For most time slots, trips starting from the Airport have longer durations tahn those from the city.\n",
    "2. Evening Pattern is reversed:\n",
    "    - In the evening, City pickups have much higher average duartions (39 mins) compared to Airport(11 mins). This may include\n",
    "        - Heavy evening traffic in city areas.\n",
    "        - Shorter sirport trips possibly due to fewer bookings or off-peak demand.\n",
    "3. Night time Disparity:\n",
    "    - At night, City trips are again longer tahn Airport trips, possibly due to longer routes or fewer raffic interuptions enabling longer distance rides.\n",
    "4. Late night is more balanced:\n",
    "    - Both pickup points show similar duartions(18-21 mins), suggesting smoother traffic during this time."
   ]
  },
  {
   "cell_type": "markdown",
   "metadata": {
    "id": "-JiQyfWJYklI"
   },
   "source": [
    "##### 3. Will the gained insights help creating a positive business impact?\n",
    "Are there any insights that lead to negative growth? Justify with specific reason."
   ]
  },
  {
   "cell_type": "markdown",
   "metadata": {
    "id": "BcBbebzrYklV"
   },
   "source": [
    "- Insights that could lead to negative growth.\n",
    "    - Not implementing dynamic pricing based on trip duration or surge adjustments and Time Slot based dynamic pricing could lead to less revenue generation which can cause negative impact on business.\n",
    " \n",
    "- Business Strategies\n",
    "1. Dynamic pricing / Surge Adjustments:\n",
    "    - Apply time slot based dynamic pricing\n",
    "        - Evening: Higher rates in City due to longer trip durations.\n",
    "        - Morning: Higher rates from Airport due to longer trips and likely higher demand.\n",
    "2. Driver Allocation Optimization:\n",
    "    - Increase driver availability at the Airport during morning and Early Morning to cover long trips.\n",
    "    - Deploy more drivers in City areas during Evenings where trip duration and likely traffic are high.\n",
    "3. Customer Communication:\n",
    "    - Notify users about expected longer trip times during specific time slots and pickup zones.(e.g. \"Expect longer wait and trip durations in the City during Evening Hours\")"
   ]
  },
  {
   "cell_type": "markdown",
   "metadata": {
    "id": "EM7whBJCYoAo"
   },
   "source": [
    "#### Chart - 6"
   ]
  },
  {
   "cell_type": "code",
   "execution_count": 15,
   "metadata": {},
   "outputs": [
    {
     "data": {
      "image/png": "[encoded data removed]",
      "text/plain": [
       "<Figure size 1000x600 with 1 Axes>"
      ]
     },
     "metadata": {},
     "output_type": "display_data"
    }
   ],
   "source": [
    "df_temp = df.groupby(['Pickup point','Status'])['Request id'].count().reset_index(name = \"Count\")\n",
    "plt.figure(figsize = (10,6))\n",
    "plt.title(\"Demand Gap by Pickup point\")\n",
    "sns.barplot(df_temp,x = 'Pickup point', y = 'Count',hue = 'Status',palette = 'viridis')\n",
    "plt.ylabel(\"Trip Status Count\")\n",
    "plt.grid()\n",
    "plt.savefig('Chart6.png')"
   ]
  },
  {
   "cell_type": "markdown",
   "metadata": {
    "id": "fge-S5ZAYoAp"
   },
   "source": [
    "##### 1. Why did you pick the specific chart?"
   ]
  },
  {
   "cell_type": "markdown",
   "metadata": {
    "id": "5dBItgRVYoAp"
   },
   "source": [
    "This chart shows the trip request outcomes by pickup point across three statuses:\n",
    "- Cancelled\n",
    "- No Cars Available\n",
    "- Trip Completed"
   ]
  },
  {
   "cell_type": "markdown",
   "metadata": {
    "id": "85gYPyotYoAp"
   },
   "source": [
    "##### 2. What is/are the insight(s) found from the chart?"
   ]
  },
  {
   "cell_type": "markdown",
   "metadata": {
    "id": "4jstXR6OYoAp"
   },
   "source": [
    "1. Airport pickup point:\n",
    "    - High \"No Cars Available\" count(about 1700):\n",
    "      This is the highest among all categories- indicating a serious supply shortage at the airport.\n",
    "    - Lower trip completions(1300) compared to unfulfilled demand.\n",
    "    - Very low cancellations\n",
    "      This suugest that users are not cancelling on their own; rather trips are failing due to supply issues.\n",
    "2. City pickup point:\n",
    "    - Highest trip completions (1500):\n",
    "      Indicates better service in the city.\n",
    "    - Moderate \"No Cars Available\":\n",
    "      Demand supply mismatch exists but is less severe than at airport."
   ]
  },
  {
   "cell_type": "markdown",
   "metadata": {
    "id": "RoGjAbkUYoAp"
   },
   "source": [
    "##### 3. Will the gained insights help creating a positive business impact?\n",
    "Are there any insights that lead to negative growth? Justify with specific reason."
   ]
  },
  {
   "cell_type": "markdown",
   "metadata": {
    "id": "zfJ8IqMcYoAp"
   },
   "source": [
    "- Insights that can lead to negative growth\n",
    "    - Serious Supply Shortage at Airport could cause bad user experiance.\n",
    "\n",
    "A. For Airport Pickup Point.\n",
    "1. Severe Under-Supply:\n",
    "    - Deploy a dedicated fleet or reserve a driver pool for airport pickups.\n",
    "    - Use flight schedule integration to predict peak load and pre-position cars.\n",
    "2. Driver Incentives:\n",
    "    - Provide bonuses for airport pickups, especially during peak demand hours (as shown in your earlier graphs — e.g., Evening).\n",
    "    - Create short-haul ride bonuses to encourage drivers even for low fare trips from the airport.\n",
    "3. Passenger Communication:\n",
    "    - Implement scheduled ride options at airports with guaranteed pickup.\n",
    "    - Notify users of wait times and options when \"No Cars Available\" rates are rising.\n",
    "\n",
    "B. For City Pickup Point\n",
    "1. Driver Reliability Monitoring:\n",
    "    - Use analytics to detect driver behavior causing high cancellation rates (e.g., drivers declining trips).\n",
    "    - Provide driver accountability dashboards and incentives for high trip completion rates.\n",
    "2. Dynamic Pricing Control:\n",
    "    - If cancellations spike during high fares, implement price caps during certain periods to maintain demand."
   ]
  },
  {
   "cell_type": "markdown",
   "metadata": {
    "id": "4Of9eVA-YrdM"
   },
   "source": [
    "#### Chart - 7"
   ]
  },
  {
   "cell_type": "code",
   "execution_count": 16,
   "metadata": {},
   "outputs": [
    {
     "data": {
      "image/png": "[encoded data removed]",
      "text/plain": [
       "<Figure size 1000x600 with 1 Axes>"
      ]
     },
     "metadata": {},
     "output_type": "display_data"
    }
   ],
   "source": [
    "df_temp = df_unfulfilled.groupby(['Pickup point','Time Slot'])['Request id'].count().reset_index(name = \"Count\")\n",
    "plt.figure(figsize = (10,6))\n",
    "plt.title(\"Demand Gap by Pickup Point per Time Slot\")\n",
    "sns.barplot(df_temp,x = 'Time Slot', y = 'Count', hue = 'Pickup point',palette='viridis')\n",
    "plt.ylabel(\"Number of Unfulfilled Request\")\n",
    "plt.grid()\n",
    "plt.savefig('Chart7.png')"
   ]
  },
  {
   "cell_type": "markdown",
   "metadata": {
    "id": "iky9q4vBYrdO"
   },
   "source": [
    "##### 1. Why did you pick the specific chart?"
   ]
  },
  {
   "cell_type": "markdown",
   "metadata": {
    "id": "aJRCwT6DYrdO"
   },
   "source": [
    "This clustered bar chart shows the Demand Gaps by Pickup point (Airport or City) per Time Slot."
   ]
  },
  {
   "cell_type": "markdown",
   "metadata": {
    "id": "F6T5p64dYrdO"
   },
   "source": [
    "##### 2. What is/are the insight(s) found from the chart?"
   ]
  },
  {
   "cell_type": "markdown",
   "metadata": {
    "id": "Xx8WAJvtYrdO"
   },
   "source": [
    "1. major Demand Gaps at Specific Times and Locations:\n",
    "    - Evening (Airport): about 1150 unfulfilled requests. (highest gap overall).\n",
    "    - Morning (City): about 1100 unfulfilled requests. (Second highest)\n",
    "    - These two areas are clear supply-demand mismatch hotspots.\n",
    "2. Early morning (City):\n",
    "    - Significant unfulfilled demand (about 370 requests), which might suggest insufficient early-shift drivers in the city.\n",
    "3. Night (Airport):\n",
    "    - Notable demand gap (about 420 requests), possibly due to reduced night shift drivers or irregular late night flight arrivals."
   ]
  },
  {
   "cell_type": "markdown",
   "metadata": {
    "id": "y-Ehk30pYrdP"
   },
   "source": [
    "##### 3. Will the gained insights help creating a positive business impact?\n",
    "Are there any insights that lead to negative growth? Justify with specific reason."
   ]
  },
  {
   "cell_type": "markdown",
   "metadata": {
    "id": "jLNxxz7MYrdP"
   },
   "source": [
    "- Insights that can lead to negative growth\n",
    "    - Major demand gaps at Airport in the Evening hours and t the City in the morning hours indicates rush hours at Airport in the Evening and at the City in the Morning. Not addressing this issue could potentially cause customer dissatisfaction and high customer churn rate.\n",
    " \n",
    "- Business Insights\n",
    "1. Supply Optimization\n",
    "    - Airport - Evening:\n",
    "        - Deploy more drivers at the airport during evening peak.\n",
    "        - Offer incentives for drivers willing to take evening airport pickups.\n",
    "        - Use flight- arrival data to allign supply with demand spikes.\n",
    "    - City - Morning:\n",
    "        - increase city driver availability in mornig hours.\n",
    "        - Consider pre-scheduling or pre-booking options to smooth morning rush demand.\n",
    "    - City - Early Morning:\n",
    "        - Adjust shift schedules so more drivers start earlier\n",
    "        - Incentivize early shift drives with bonuses or higher rates.\n",
    "2. Driver Incentives and Training Programs\n",
    "    - design targeted incentive programs to encourage drivers to work during:\n",
    "        - Evening (Airport)\n",
    "        - Morning (City)\n",
    "3. Customer Experiance Improvement\n",
    "    - For time slots with chronic shortages:\n",
    "        - Show users realistic wait times or suggest alternate time Slots.\n",
    "        - Offer scheduled rides with guaranteed pickups if booked in advance."
   ]
  },
  {
   "cell_type": "markdown",
   "metadata": {},
   "source": [
    "#### Chart - 8"
   ]
  },
  {
   "cell_type": "code",
   "execution_count": 17,
   "metadata": {},
   "outputs": [
    {
     "data": {
      "image/png": "[encoded data removed]",
      "text/plain": [
       "<Figure size 1000x600 with 1 Axes>"
      ]
     },
     "metadata": {},
     "output_type": "display_data"
    }
   ],
   "source": [
    "df_temp = df_unfulfilled.groupby(['Pickup point','Day of the Week'])['Request id'].count().reset_index(name = \"Count\")\n",
    "plt.figure(figsize = (10,6))\n",
    "plt.title(\"Demand Gap by day of week per pickup point\")\n",
    "sns.barplot(df_temp,y = 'Count',x = 'Day of the Week',hue = 'Pickup point',palette = 'viridis')\n",
    "plt.ylabel(\"Number of Unfulfilled Requests\")\n",
    "plt.grid()\n",
    "plt.savefig('Chart8.png')"
   ]
  },
  {
   "cell_type": "markdown",
   "metadata": {},
   "source": [
    "##### 1. Why did you pick the specific chart?"
   ]
  },
  {
   "cell_type": "markdown",
   "metadata": {},
   "source": [
    "This bar chart shows the number of unfulfilled requests by day of the week, segmented by pickup point (Airport vs City). It gives visibility into weekly demand gaps at both pickup locations."
   ]
  },
  {
   "cell_type": "markdown",
   "metadata": {},
   "source": [
    "##### 2. What is/are the insight(s) found from the chart?"
   ]
  },
  {
   "cell_type": "markdown",
   "metadata": {},
   "source": [
    "1. Friday Has the Highest Demand Gap for City:\n",
    "City requests spike significantly (~460 unfulfilled requests).Indicates higher demand before the weekend—likely due to commuters, events, or leisure travel.\n",
    "\n",
    "2. Airport Unfulfilled Demand Peaks on Thursday & Tuesday:\n",
    "Both days show over 400 unfulfilled requests.Possibly due to business travel cycles, which tend to peak mid-week.\n",
    "\n",
    "3. Monday and Wednesday Are Relatively Balanced:\n",
    "Demand gaps at both pickup points are nearly equal and moderate.Likely reflects stable weekday routines with better alignment of supply and demand.\n",
    "\n",
    "4. City Demand Gap More Volatile Across Days:\n",
    "City demand gaps vary more than Airport, with sharp highs on Friday and dips on Tuesday.Indicates more unpredictable and event-driven urban usage patterns."
   ]
  },
  {
   "cell_type": "markdown",
   "metadata": {},
   "source": [
    "##### 3. Will the gained insights help creating a positive business impact?\n",
    "Are there any insights that lead to negative growth? Justify with specific reason."
   ]
  },
  {
   "cell_type": "markdown",
   "metadata": {},
   "source": [
    "- Increase City driver availability on Fridays:\n",
    "    - Launch “Friday Boost” incentives for drivers in city zones.\n",
    "    - Allow driver shift extensions on Friday evenings to reduce unfulfilled requests.\n",
    "    - Deploy more Airport drivers on Tuesday and Thursday:\n",
    "    - Match airport supply with flight arrivals mid-week.\n",
    "    - Introduce airport zone bonuses for these days.\n",
    "- Customer Behavior Handling\n",
    "    - On high-gap days (e.g., Friday in the city):\n",
    "    - Send advance booking reminders to users.\n",
    "    - Offer discounts or loyalty points for scheduling during non-peak times (e.g., Monday/Wednesday)."
   ]
  },
  {
   "cell_type": "markdown",
   "metadata": {
    "id": "gCX9965dhzqZ"
   },
   "source": [
    "# **Conclusion**"
   ]
  },
  {
   "cell_type": "markdown",
   "metadata": {
    "id": "Fjb1IsQkh3yE"
   },
   "source": [
    "**Overall Insights:**\n",
    "1.\tCity Pickup Demand:\n",
    "    - Friday shows the highest number of unfulfilled ride requests (~460).\n",
    "    - This suggests increased urban travel demand before the weekend due to work commutes, social outings, or events.\n",
    "    - The demand gap is highly volatile throughout the week—likely tied to unpredictable urban patterns.\n",
    "    - At Morning hours there are significantly more unfulfilled ride request.\n",
    "2.\tAirport Pickup Demand:\n",
    "    - Tuesday and Thursday show high unmet demand (>400 requests), possibly due to mid-week business travel peaks.\n",
    "    - The airport demand pattern is more stable compared to the city, aligning with scheduled flight patterns.\n",
    "    - At Evenings there are significantly more unfulfilled ride request.\n",
    "\n",
    "**Overall Business Strategy:**\n",
    "1. Dynamic Driver Incentives\n",
    "- City (Friday Focused)\n",
    "    - Implement “Friday Boost Incentives” to encourage more drivers to operate in City Zones specially in Morning Hours.\n",
    "    - Allow extended driving hours or relaxed shift rules on Friday\n",
    "- Airport (Tue/Thu Focused)\n",
    "    - Align driver / car availability with flight arrival schedule.\n",
    "    - Offer zone-based bonuses for airport pickups on specific days.\n",
    "2. Demand Smoothing via User – side Actions\n",
    "- User Behaviour Management:\n",
    "    - Advance Booking Reminder for peak demand periods (e.g. Friday Mornings in City and Thursday Evenings in Airport)\n",
    "    - Offer discounts or loyalty perks for scheduling during non-peak days and non-peak hours.\n",
    "3. Operational Optimization\n",
    "    - Dynamic reallocation of idle drivers between airport and City zones depending on real-time data.\n",
    "\n",
    "**Conclusion:**\n",
    "\tThe project clearly identifies key temporal and spatial mismatches in Uber’s supply-demand ecosystem. By applying targeted operational strategies such as incentive realignment and behavioural nudges, Uber can significantly reduce the demand gap, enhance customer experience, and increase driver utilization and revenue."
   ]
  },
  {
   "cell_type": "markdown",
   "metadata": {
    "id": "gIfDvo9L0UH2"
   },
   "source": [
    "### ***Hurrah! You have successfully completed your EDA Capstone Project !!!***"
   ]
  }
 ],
 "metadata": {
  "colab": {
   "collapsed_sections": [
    "vncDsAP0Gaoa",
    "FJNUwmbgGyua",
    "w6K7xa23Elo4",
    "yQaldy8SH6Dl",
    "PH-0ReGfmX4f",
    "mDgbUHAGgjLW",
    "O_i_v8NEhb9l",
    "HhfV-JJviCcP",
    "Y3lxredqlCYt",
    "3RnN4peoiCZX",
    "x71ZqKXriCWQ",
    "7hBIi_osiCS2",
    "JlHwYmJAmNHm",
    "35m5QtbWiB9F",
    "PoPl-ycgm1ru",
    "H0kj-8xxnORC",
    "nA9Y7ga8ng1Z",
    "PBTbrJXOngz2",
    "u3PMJOP6ngxN",
    "dauF4eBmngu3",
    "bKJF3rekwFvQ",
    "MSa1f5Uengrz",
    "GF8Ens_Soomf",
    "0wOQAZs5pc--",
    "K5QZ13OEpz2H",
    "lQ7QKXXCp7Bj",
    "448CDAPjqfQr",
    "KSlN3yHqYklG",
    "t6dVpIINYklI",
    "ijmpgYnKYklI",
    "-JiQyfWJYklI",
    "EM7whBJCYoAo",
    "fge-S5ZAYoAp",
    "85gYPyotYoAp",
    "RoGjAbkUYoAp",
    "4Of9eVA-YrdM",
    "iky9q4vBYrdO",
    "F6T5p64dYrdO",
    "y-Ehk30pYrdP",
    "bamQiAODYuh1",
    "QHF8YVU7Yuh3",
    "GwzvFGzlYuh3",
    "qYpmQ266Yuh3",
    "OH-pJp9IphqM",
    "bbFf2-_FphqN",
    "_ouA3fa0phqN",
    "Seke61FWphqN",
    "PIIx-8_IphqN",
    "t27r6nlMphqO",
    "r2jJGEOYphqO",
    "b0JNsNcRphqO",
    "BZR9WyysphqO",
    "jj7wYXLtphqO",
    "eZrbJ2SmphqO",
    "rFu4xreNphqO",
    "YJ55k-q6phqO",
    "gCFgpxoyphqP",
    "OVtJsKN_phqQ",
    "lssrdh5qphqQ",
    "U2RJ9gkRphqQ",
    "1M8mcRywphqQ",
    "tgIPom80phqQ",
    "JMzcOPDDphqR",
    "x-EpHcCOp1ci",
    "X_VqEhTip1ck",
    "8zGJKyg5p1ck",
    "PVzmfK_Ep1ck",
    "n3dbpmDWp1ck",
    "ylSl6qgtp1ck",
    "ZWILFDl5p1ck",
    "M7G43BXep1ck",
    "Ag9LCva-p1cl",
    "E6MkPsBcp1cl",
    "2cELzS2fp1cl",
    "3MPXvC8up1cl",
    "NC_X3p0fY2L0",
    "UV0SzAkaZNRQ",
    "YPEH6qLeZNRQ",
    "q29F0dvdveiT",
    "EXh0U9oCveiU",
    "22aHeOlLveiV",
    "JcMwzZxoAimU",
    "8G2x9gOozGDZ",
    "gCX9965dhzqZ",
    "gIfDvo9L0UH2"
   ],
   "private_outputs": true,
   "provenance": []
  },
  "kernelspec": {
   "display_name": "Python 3 (ipykernel)",
   "language": "python",
   "name": "python3"
  },
  "language_info": {
   "codemirror_mode": {
    "name": "ipython",
    "version": 3
   },
   "file_extension": ".py",
   "mimetype": "text/x-python",
   "name": "python",
   "nbconvert_exporter": "python",
   "pygments_lexer": "ipython3",
   "version": "3.13.3"
  }
 },
 "nbformat": 4,
 "nbformat_minor": 4
}
